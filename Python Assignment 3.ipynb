{
 "cells": [
  {
   "cell_type": "markdown",
   "id": "a84cba1c",
   "metadata": {},
   "source": [
    "#Task 3\n",
    "\n",
    "Registration ID : SIRSS1038\n",
    "\n",
    "Leela Satya Kartheek Raja"
   ]
  },
  {
   "cell_type": "markdown",
   "id": "c6a1c96b",
   "metadata": {},
   "source": [
    "\n",
    "Q1. Write a function to return nth term of Fibonacci sequence"
   ]
  },
  {
   "cell_type": "code",
   "execution_count": 3,
   "id": "2a80a7cf",
   "metadata": {},
   "outputs": [
    {
     "name": "stdout",
     "output_type": "stream",
     "text": [
      "Enter a Number : 5\n",
      "0 1 1 2 3 "
     ]
    }
   ],
   "source": [
    "def Fibonacci(j) :\n",
    "    if j <= 1 :\n",
    "        return j\n",
    "    else : \n",
    "        return (Fibonacci(j-1) + Fibonacci(j-2))\n",
    "    \n",
    "N = int(input(\"Enter a Number : \"))\n",
    "\n",
    "if N < 0 :\n",
    "    print(\"Please Enter Positive Number \")\n",
    "else :\n",
    "    for i in range(N) :\n",
    "        print(Fibonacci(i), end = \" \")"
   ]
  },
  {
   "cell_type": "markdown",
   "id": "115e3246",
   "metadata": {},
   "source": [
    "Q2. Write a function to find out GCD of two numbers using EUCLID'S algorithm"
   ]
  },
  {
   "cell_type": "code",
   "execution_count": 5,
   "id": "15fa82c9",
   "metadata": {},
   "outputs": [
    {
     "name": "stdout",
     "output_type": "stream",
     "text": [
      "Enter first Number : 96\n",
      "Enter second Number : 68\n",
      "GCD of (96,68) =  4\n"
     ]
    }
   ],
   "source": [
    "i1 = int(input(\"Enter first Number : \"))\n",
    "i2 = int(input(\"Enter second Number : \"))\n",
    "def gcd(N1, N2) :\n",
    "    if N2 == 0 :\n",
    "        return N1\n",
    "    else :\n",
    "        return gcd(N2, N1 % N2)\n",
    "        \n",
    "print(f\"GCD of ({i1},{i2}) = \", gcd(i1, i2))"
   ]
  },
  {
   "cell_type": "markdown",
   "id": "dc542d49",
   "metadata": {},
   "source": [
    "\n",
    "Q3. Write a function to find LCM of two number in most optimizers way"
   ]
  },
  {
   "cell_type": "code",
   "execution_count": 6,
   "id": "c633e76a",
   "metadata": {},
   "outputs": [
    {
     "name": "stdout",
     "output_type": "stream",
     "text": [
      "Enter first Number : 96\n",
      "Enter second Number : 38\n",
      "LCM of (96,38) =  1824.0\n"
     ]
    }
   ],
   "source": [
    "i1 = int(input(\"Enter first Number : \"))\n",
    "i2 = int(input(\"Enter second Number : \"))\n",
    "def gcd(N1, N2) :\n",
    "    if N2 == 0 :\n",
    "        return N1\n",
    "    else :\n",
    "        return gcd(N2, N1 % N2)\n",
    "    \n",
    "def lcm(N1, N2) :\n",
    "    return (N1 / gcd(N1,N2)) * N2\n",
    "\n",
    "print(f\"LCM of ({i1},{i2}) = \", lcm(i1, i2))"
   ]
  }
 ],
 "metadata": {
  "kernelspec": {
   "display_name": "Python 3",
   "language": "python",
   "name": "python3"
  },
  "language_info": {
   "codemirror_mode": {
    "name": "ipython",
    "version": 3
   },
   "file_extension": ".py",
   "mimetype": "text/x-python",
   "name": "python",
   "nbconvert_exporter": "python",
   "pygments_lexer": "ipython3",
   "version": "3.8.8"
  }
 },
 "nbformat": 4,
 "nbformat_minor": 5
}
